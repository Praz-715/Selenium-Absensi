{
 "cells": [
  {
   "cell_type": "code",
   "execution_count": 4,
   "id": "40ecf6a3-b939-4bad-9a94-bdb022d1612f",
   "metadata": {},
   "outputs": [
    {
     "ename": "FileNotFoundError",
     "evalue": "[Errno 2] No such file or directory: 'C:\\\\Users\\\\user1\\\\Selenium\\\\images\\\\zuber\\\\Selenium\\\\images\\\\Aldo\\\\Aldo1old.jpg'",
     "output_type": "error",
     "traceback": [
      "\u001b[1;31m---------------------------------------------------------------------------\u001b[0m",
      "\u001b[1;31mFileNotFoundError\u001b[0m                         Traceback (most recent call last)",
      "Cell \u001b[1;32mIn[4], line 44\u001b[0m\n\u001b[0;32m     41\u001b[0m input_image \u001b[38;5;241m=\u001b[39m \u001b[38;5;124m\"\u001b[39m\u001b[38;5;124mSelenium/images/Aldo/Aldo1old.jpg\u001b[39m\u001b[38;5;124m\"\u001b[39m  \u001b[38;5;66;03m# Replace with your input image path\u001b[39;00m\n\u001b[0;32m     42\u001b[0m output_image \u001b[38;5;241m=\u001b[39m \u001b[38;5;124m\"\u001b[39m\u001b[38;5;124mSelenium/images/Aldo/Aldo1.jpg\u001b[39m\u001b[38;5;124m\"\u001b[39m  \u001b[38;5;66;03m# Replace with your output image path\u001b[39;00m\n\u001b[1;32m---> 44\u001b[0m \u001b[43mresize_to_4_3_and_fixed_size\u001b[49m\u001b[43m(\u001b[49m\u001b[43minput_image\u001b[49m\u001b[43m,\u001b[49m\u001b[43m \u001b[49m\u001b[43moutput_image\u001b[49m\u001b[43m)\u001b[49m\n",
      "Cell \u001b[1;32mIn[4], line 12\u001b[0m, in \u001b[0;36mresize_to_4_3_and_fixed_size\u001b[1;34m(input_path, output_path, target_width, target_height)\u001b[0m\n\u001b[0;32m      3\u001b[0m \u001b[38;5;28;01mdef\u001b[39;00m \u001b[38;5;21mresize_to_4_3_and_fixed_size\u001b[39m(input_path, output_path, target_width\u001b[38;5;241m=\u001b[39m\u001b[38;5;241m320\u001b[39m, target_height\u001b[38;5;241m=\u001b[39m\u001b[38;5;241m240\u001b[39m):\n\u001b[0;32m      4\u001b[0m \u001b[38;5;250m    \u001b[39m\u001b[38;5;124;03m\"\"\"\u001b[39;00m\n\u001b[0;32m      5\u001b[0m \u001b[38;5;124;03m    Resize an image to a 4:3 aspect ratio and then scale it to a fixed size.\u001b[39;00m\n\u001b[0;32m      6\u001b[0m \u001b[38;5;124;03m    \u001b[39;00m\n\u001b[1;32m   (...)\u001b[0m\n\u001b[0;32m     10\u001b[0m \u001b[38;5;124;03m    :param target_height: The desired height of the output image\u001b[39;00m\n\u001b[0;32m     11\u001b[0m \u001b[38;5;124;03m    \"\"\"\u001b[39;00m\n\u001b[1;32m---> 12\u001b[0m     \u001b[38;5;28;01mwith\u001b[39;00m \u001b[43mImage\u001b[49m\u001b[38;5;241;43m.\u001b[39;49m\u001b[43mopen\u001b[49m\u001b[43m(\u001b[49m\u001b[43minput_path\u001b[49m\u001b[43m)\u001b[49m \u001b[38;5;28;01mas\u001b[39;00m img:\n\u001b[0;32m     13\u001b[0m         \u001b[38;5;66;03m# Get the original width and height\u001b[39;00m\n\u001b[0;32m     14\u001b[0m         width, height \u001b[38;5;241m=\u001b[39m img\u001b[38;5;241m.\u001b[39msize\n\u001b[0;32m     16\u001b[0m         \u001b[38;5;66;03m# Calculate the target dimensions for a 4:3 aspect ratio\u001b[39;00m\n",
      "File \u001b[1;32m~\\anaconda3\\envs\\tester\\Lib\\site-packages\\PIL\\Image.py:3469\u001b[0m, in \u001b[0;36mopen\u001b[1;34m(fp, mode, formats)\u001b[0m\n\u001b[0;32m   3466\u001b[0m     filename \u001b[38;5;241m=\u001b[39m os\u001b[38;5;241m.\u001b[39mpath\u001b[38;5;241m.\u001b[39mrealpath(os\u001b[38;5;241m.\u001b[39mfspath(fp))\n\u001b[0;32m   3468\u001b[0m \u001b[38;5;28;01mif\u001b[39;00m filename:\n\u001b[1;32m-> 3469\u001b[0m     fp \u001b[38;5;241m=\u001b[39m \u001b[43mbuiltins\u001b[49m\u001b[38;5;241;43m.\u001b[39;49m\u001b[43mopen\u001b[49m\u001b[43m(\u001b[49m\u001b[43mfilename\u001b[49m\u001b[43m,\u001b[49m\u001b[43m \u001b[49m\u001b[38;5;124;43m\"\u001b[39;49m\u001b[38;5;124;43mrb\u001b[39;49m\u001b[38;5;124;43m\"\u001b[39;49m\u001b[43m)\u001b[49m\n\u001b[0;32m   3470\u001b[0m     exclusive_fp \u001b[38;5;241m=\u001b[39m \u001b[38;5;28;01mTrue\u001b[39;00m\n\u001b[0;32m   3471\u001b[0m \u001b[38;5;28;01melse\u001b[39;00m:\n",
      "\u001b[1;31mFileNotFoundError\u001b[0m: [Errno 2] No such file or directory: 'C:\\\\Users\\\\user1\\\\Selenium\\\\images\\\\zuber\\\\Selenium\\\\images\\\\Aldo\\\\Aldo1old.jpg'"
     ]
    }
   ],
   "source": [
    "from PIL import Image\n",
    "\n",
    "def resize_to_4_3_and_fixed_size(input_path, output_path, target_width=320, target_height=240):\n",
    "    \"\"\"\n",
    "    Resize an image to a 4:3 aspect ratio and then scale it to a fixed size.\n",
    "    \n",
    "    :param input_path: Path to the input image\n",
    "    :param output_path: Path to save the output image\n",
    "    :param target_width: The desired width of the output image\n",
    "    :param target_height: The desired height of the output image\n",
    "    \"\"\"\n",
    "    with Image.open(input_path) as img:\n",
    "        # Get the original width and height\n",
    "        width, height = img.size\n",
    "        \n",
    "        # Calculate the target dimensions for a 4:3 aspect ratio\n",
    "        if width / height > 4 / 3:\n",
    "            # Image is too wide, adjust width\n",
    "            new_width = int(height * 4 / 3)\n",
    "            new_height = height\n",
    "        else:\n",
    "            # Image is too tall, adjust height\n",
    "            new_width = width\n",
    "            new_height = int(width * 3 / 4)\n",
    "        \n",
    "        # Crop the image to the new dimensions, centered\n",
    "        left = (width - new_width) // 2\n",
    "        top = (height - new_height) // 2\n",
    "        right = left + new_width\n",
    "        bottom = top + new_height\n",
    "        cropped_img = img.crop((left, top, right, bottom))\n",
    "        \n",
    "        # Resize to the fixed dimensions using LANCZOS\n",
    "        resized_img = cropped_img.resize((target_width, target_height), Image.Resampling.LANCZOS)\n",
    "        \n",
    "        # Save the resized image\n",
    "        resized_img.save(output_path)\n",
    "        print(f\"Image saved to {output_path} with dimensions {target_width}x{target_height}\")\n",
    "\n",
    "# Example usage\n",
    "input_image = \"Selenium/images/Aldo/Aldo1old.jpg\"  # Replace with your input image path\n",
    "output_image = \"Selenium/images/Aldo/Aldo1.jpg\"  # Replace with your output image path\n",
    "\n",
    "resize_to_4_3_and_fixed_size(input_image, output_image)"
   ]
  },
  {
   "cell_type": "code",
   "execution_count": 5,
   "id": "4436991a-d3d4-4c1e-9d7a-f0d6fa29b5d3",
   "metadata": {},
   "outputs": [
    {
     "name": "stdout",
     "output_type": "stream",
     "text": [
      "C:\\Users\\user1\\Selenium\\images\\zuber\n"
     ]
    }
   ],
   "source": [
    "import os\n",
    "import random\n",
    "\n",
    "print(os.getcwd())\n",
    "# Menentukan direktori tempat gambar berada\n",
    "# direktori_gambar = 'images/Fikri'\n",
    "\n",
    "# Membaca semua file di direktori\n",
    "# semua_file = os.listdir(direktori_gambar)\n",
    "\n",
    "# Memilih file yang berextensi .jpg\n",
    "# gambar_jpg = [file for file in semua_file if file.endswith('.jpg')]\n",
    "\n",
    "# Memilih gambar secara acak dari gambar .jpg\n",
    "# selected_image = random.choice(gambar_jpg)\n",
    "\n",
    "# print(selected_image)"
   ]
  }
 ],
 "metadata": {
  "kernelspec": {
   "display_name": "Python 3 (ipykernel)",
   "language": "python",
   "name": "python3"
  },
  "language_info": {
   "codemirror_mode": {
    "name": "ipython",
    "version": 3
   },
   "file_extension": ".py",
   "mimetype": "text/x-python",
   "name": "python",
   "nbconvert_exporter": "python",
   "pygments_lexer": "ipython3",
   "version": "3.11.0"
  }
 },
 "nbformat": 4,
 "nbformat_minor": 5
}
