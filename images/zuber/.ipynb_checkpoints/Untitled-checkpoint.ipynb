{
 "cells": [
  {
   "cell_type": "code",
   "execution_count": 1,
   "id": "88535dcb-859b-4cdb-95a3-797c530a64cd",
   "metadata": {},
   "outputs": [
    {
     "name": "stdout",
     "output_type": "stream",
     "text": [
      "Image saved to 3739272_rasNEW.jpg\n"
     ]
    }
   ],
   "source": [
    "from PIL import Image\n",
    "\n",
    "def resize_to_ratio_4_3(input_path, output_path):\n",
    "    \"\"\"\n",
    "    Resize an image to a 4:3 aspect ratio, maintaining the center of the image.\n",
    "    \n",
    "    :param input_path: Path to the input image\n",
    "    :param output_path: Path to save the output image\n",
    "    \"\"\"\n",
    "    with Image.open(input_path) as img:\n",
    "        # Get the original width and height\n",
    "        width, height = img.size\n",
    "        \n",
    "        # Calculate the target dimensions for a 4:3 aspect ratio\n",
    "        if width / height > 4 / 3:\n",
    "            # Image is too wide, adjust width\n",
    "            new_width = int(height * 4 / 3)\n",
    "            new_height = height\n",
    "        else:\n",
    "            # Image is too tall, adjust height\n",
    "            new_width = width\n",
    "            new_height = int(width * 3 / 4)\n",
    "        \n",
    "        # Crop the image to the new dimensions, centered\n",
    "        left = (width - new_width) // 2\n",
    "        top = (height - new_height) // 2\n",
    "        right = left + new_width\n",
    "        bottom = top + new_height\n",
    "        \n",
    "        cropped_img = img.crop((left, top, right, bottom))\n",
    "        \n",
    "        # Save the resized image\n",
    "        cropped_img.save(output_path)\n",
    "        print(f\"Image saved to {output_path}\")\n",
    "\n",
    "# Example usage\n",
    "input_image = \"3739272.jpg\"  # Replace with your input image path\n",
    "output_image = \"3739272_rasNEW.jpg\"  # Replace with your output image path\n",
    "\n",
    "resize_to_ratio_4_3(input_image, output_image)"
   ]
  },
  {
   "cell_type": "code",
   "execution_count": 4,
   "id": "6d7c2340-f4e7-45da-bc85-a48f70611ef2",
   "metadata": {},
   "outputs": [
    {
     "name": "stdout",
     "output_type": "stream",
     "text": [
      "Image saved to kontol_rasNEW.jpg with dimensions 320x240\n"
     ]
    }
   ],
   "source": [
    "from PIL import Image\n",
    "\n",
    "def resize_to_4_3_and_fixed_size(input_path, output_path, target_width=320, target_height=240):\n",
    "    \"\"\"\n",
    "    Resize an image to a 4:3 aspect ratio and then scale it to a fixed size.\n",
    "    \n",
    "    :param input_path: Path to the input image\n",
    "    :param output_path: Path to save the output image\n",
    "    :param target_width: The desired width of the output image\n",
    "    :param target_height: The desired height of the output image\n",
    "    \"\"\"\n",
    "    with Image.open(input_path) as img:\n",
    "        # Get the original width and height\n",
    "        width, height = img.size\n",
    "        \n",
    "        # Calculate the target dimensions for a 4:3 aspect ratio\n",
    "        if width / height > 4 / 3:\n",
    "            # Image is too wide, adjust width\n",
    "            new_width = int(height * 4 / 3)\n",
    "            new_height = height\n",
    "        else:\n",
    "            # Image is too tall, adjust height\n",
    "            new_width = width\n",
    "            new_height = int(width * 3 / 4)\n",
    "        \n",
    "        # Crop the image to the new dimensions, centered\n",
    "        left = (width - new_width) // 2\n",
    "        top = (height - new_height) // 2\n",
    "        right = left + new_width\n",
    "        bottom = top + new_height\n",
    "        cropped_img = img.crop((left, top, right, bottom))\n",
    "        \n",
    "        # Resize to the fixed dimensions using LANCZOS\n",
    "        resized_img = cropped_img.resize((target_width, target_height), Image.Resampling.LANCZOS)\n",
    "        \n",
    "        # Save the resized image\n",
    "        resized_img.save(output_path)\n",
    "        print(f\"Image saved to {output_path} with dimensions {target_width}x{target_height}\")\n",
    "\n",
    "# Example usage\n",
    "input_image = \"kontol.jpg\"  # Replace with your input image path\n",
    "output_image = \"kontol_rasNEW.jpg\"  # Replace with your output image path\n",
    "\n",
    "resize_to_4_3_and_fixed_size(input_image, output_image)"
   ]
  }
 ],
 "metadata": {
  "kernelspec": {
   "display_name": "Python 3 (ipykernel)",
   "language": "python",
   "name": "python3"
  },
  "language_info": {
   "codemirror_mode": {
    "name": "ipython",
    "version": 3
   },
   "file_extension": ".py",
   "mimetype": "text/x-python",
   "name": "python",
   "nbconvert_exporter": "python",
   "pygments_lexer": "ipython3",
   "version": "3.11.5"
  }
 },
 "nbformat": 4,
 "nbformat_minor": 5
}
